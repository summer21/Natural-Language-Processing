{
 "cells": [
  {
   "cell_type": "markdown",
   "metadata": {},
   "source": [
    "# Bigrams "
   ]
  },
  {
   "cell_type": "markdown",
   "metadata": {},
   "source": [
    "Sometimes that called two grams and ngram(using different no's').In below we saw the way of words sequences.These techniqes allow the different combination of words. "
   ]
  },
  {
   "cell_type": "code",
   "execution_count": 1,
   "metadata": {
    "collapsed": true
   },
   "outputs": [],
   "source": [
    "import nltk"
   ]
  },
  {
   "cell_type": "code",
   "execution_count": 2,
   "metadata": {
    "collapsed": true
   },
   "outputs": [],
   "source": [
    "text = \"Tody is rainny day.Let's do some fun.\""
   ]
  },
  {
   "cell_type": "code",
   "execution_count": 3,
   "metadata": {
    "collapsed": true
   },
   "outputs": [],
   "source": [
    "tokens = nltk.word_tokenize(text)"
   ]
  },
  {
   "cell_type": "code",
   "execution_count": 4,
   "metadata": {
    "collapsed": true
   },
   "outputs": [],
   "source": [
    "bigrams = nltk.bigrams(tokens)"
   ]
  },
  {
   "cell_type": "code",
   "execution_count": 5,
   "metadata": {},
   "outputs": [
    {
     "name": "stdout",
     "output_type": "stream",
     "text": [
      "('Tody', 'is')\n",
      "('is', 'rainny')\n",
      "('rainny', 'day.Let')\n",
      "('day.Let', \"'s\")\n",
      "(\"'s\", 'do')\n",
      "('do', 'some')\n",
      "('some', 'fun')\n",
      "('fun', '.')\n"
     ]
    }
   ],
   "source": [
    "for items in bigrams:\n",
    "    print(items)\n"
   ]
  },
  {
   "cell_type": "code",
   "execution_count": 6,
   "metadata": {
    "collapsed": true
   },
   "outputs": [],
   "source": [
    "trigrams = nltk.trigrams(tokens)"
   ]
  },
  {
   "cell_type": "code",
   "execution_count": 7,
   "metadata": {},
   "outputs": [
    {
     "name": "stdout",
     "output_type": "stream",
     "text": [
      "('Tody', 'is', 'rainny')\n",
      "('is', 'rainny', 'day.Let')\n",
      "('rainny', 'day.Let', \"'s\")\n",
      "('day.Let', \"'s\", 'do')\n",
      "(\"'s\", 'do', 'some')\n",
      "('do', 'some', 'fun')\n",
      "('some', 'fun', '.')\n"
     ]
    }
   ],
   "source": [
    "for iteam in trigrams:\n",
    "    print(iteam)"
   ]
  },
  {
   "cell_type": "code",
   "execution_count": 8,
   "metadata": {
    "collapsed": true
   },
   "outputs": [],
   "source": [
    " from nltk.util import ngrams"
   ]
  },
  {
   "cell_type": "code",
   "execution_count": 9,
   "metadata": {
    "collapsed": true
   },
   "outputs": [],
   "source": [
    "text2 = \"IF it is nice out, I will go to market.\""
   ]
  },
  {
   "cell_type": "code",
   "execution_count": 10,
   "metadata": {
    "collapsed": true
   },
   "outputs": [],
   "source": [
    "tokens = nltk.word_tokenize(text2)"
   ]
  },
  {
   "cell_type": "code",
   "execution_count": 22,
   "metadata": {
    "collapsed": true
   },
   "outputs": [],
   "source": [
    "bigrams = ngrams(tokens,2)"
   ]
  },
  {
   "cell_type": "code",
   "execution_count": 23,
   "metadata": {},
   "outputs": [
    {
     "name": "stdout",
     "output_type": "stream",
     "text": [
      "('IF', 'it')\n",
      "('it', 'is')\n",
      "('is', 'nice')\n",
      "('nice', 'out')\n",
      "('out', ',')\n",
      "(',', 'I')\n",
      "('I', 'will')\n",
      "('will', 'go')\n",
      "('go', 'to')\n",
      "('to', 'market')\n",
      "('market', '.')\n"
     ]
    }
   ],
   "source": [
    "for item in bigrams:\n",
    "    print(item)"
   ]
  },
  {
   "cell_type": "code",
   "execution_count": 24,
   "metadata": {
    "collapsed": true
   },
   "outputs": [],
   "source": [
    "fourgrmams = ngrams(tokens,4)"
   ]
  },
  {
   "cell_type": "code",
   "execution_count": 25,
   "metadata": {},
   "outputs": [
    {
     "name": "stdout",
     "output_type": "stream",
     "text": [
      "('IF', 'it', 'is', 'nice')\n",
      "('it', 'is', 'nice', 'out')\n",
      "('is', 'nice', 'out', ',')\n",
      "('nice', 'out', ',', 'I')\n",
      "('out', ',', 'I', 'will')\n",
      "(',', 'I', 'will', 'go')\n",
      "('I', 'will', 'go', 'to')\n",
      "('will', 'go', 'to', 'market')\n",
      "('go', 'to', 'market', '.')\n"
     ]
    }
   ],
   "source": [
    "for item in fourgrmams:\n",
    "    print(item)"
   ]
  },
  {
   "cell_type": "markdown",
   "metadata": {},
   "source": [
    "we can write this in function to make easier to use."
   ]
  },
  {
   "cell_type": "code",
   "execution_count": 26,
   "metadata": {
    "collapsed": true
   },
   "outputs": [],
   "source": [
    "def n_grams(text,n):\n",
    "    tokens = nltk.word_tokenize(text)\n",
    "    grams = ngrams(tokens,n)\n",
    "    return grams\n",
    "    "
   ]
  },
  {
   "cell_type": "code",
   "execution_count": 27,
   "metadata": {
    "collapsed": true
   },
   "outputs": [],
   "source": [
    "text3 = text +\" \"+ text2"
   ]
  },
  {
   "cell_type": "code",
   "execution_count": 19,
   "metadata": {},
   "outputs": [
    {
     "data": {
      "text/plain": [
       "\"Tody is rainny day.Let's do some fun. IF it is nice out, I will go to market.\""
      ]
     },
     "execution_count": 19,
     "metadata": {},
     "output_type": "execute_result"
    }
   ],
   "source": [
    "text3"
   ]
  },
  {
   "cell_type": "code",
   "execution_count": 28,
   "metadata": {},
   "outputs": [
    {
     "name": "stdout",
     "output_type": "stream",
     "text": [
      "('Tody', 'is', 'rainny', 'day.Let', \"'s\")\n",
      "('is', 'rainny', 'day.Let', \"'s\", 'do')\n",
      "('rainny', 'day.Let', \"'s\", 'do', 'some')\n",
      "('day.Let', \"'s\", 'do', 'some', 'fun')\n",
      "(\"'s\", 'do', 'some', 'fun', '.')\n",
      "('do', 'some', 'fun', '.', 'IF')\n",
      "('some', 'fun', '.', 'IF', 'it')\n",
      "('fun', '.', 'IF', 'it', 'is')\n",
      "('.', 'IF', 'it', 'is', 'nice')\n",
      "('IF', 'it', 'is', 'nice', 'out')\n",
      "('it', 'is', 'nice', 'out', ',')\n",
      "('is', 'nice', 'out', ',', 'I')\n",
      "('nice', 'out', ',', 'I', 'will')\n",
      "('out', ',', 'I', 'will', 'go')\n",
      "(',', 'I', 'will', 'go', 'to')\n",
      "('I', 'will', 'go', 'to', 'market')\n",
      "('will', 'go', 'to', 'market', '.')\n"
     ]
    }
   ],
   "source": [
    "# Call function\n",
    "\n",
    "fifthgram = n_grams(text3,5)\n",
    "for items in fifthgram:\n",
    "    print(items)"
   ]
  },
  {
   "cell_type": "code",
   "execution_count": null,
   "metadata": {
    "collapsed": true
   },
   "outputs": [],
   "source": []
  }
 ],
 "metadata": {
  "kernelspec": {
   "display_name": "Python 2",
   "language": "python",
   "name": "python2"
  },
  "language_info": {
   "codemirror_mode": {
    "name": "ipython",
    "version": 2
   },
   "file_extension": ".py",
   "mimetype": "text/x-python",
   "name": "python",
   "nbconvert_exporter": "python",
   "pygments_lexer": "ipython2",
   "version": "2.7.13"
  }
 },
 "nbformat": 4,
 "nbformat_minor": 2
}
